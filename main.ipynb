{
 "cells": [
  {
   "cell_type": "code",
   "execution_count": 81,
   "metadata": {},
   "outputs": [
    {
     "data": {
      "image/png": "[encoded data removed]",
      "text/plain": [
       "<Figure size 640x480 with 1 Axes>"
      ]
     },
     "metadata": {},
     "output_type": "display_data"
    }
   ],
   "source": [
    "import matplotlib.pyplot as plt\n",
    "import numpy as np\n",
    "\n",
    "# Define the function to generate squares\n",
    "def generate_squares(num_squares, size_range, canvas_size):\n",
    "    squares = []\n",
    "    for _ in range(num_squares):\n",
    "        size = np.random.uniform(*size_range)\n",
    "        x = np.random.uniform(0, canvas_size - size)\n",
    "        y = np.random.uniform(0, canvas_size - size)\n",
    "        squares.append((x, y, size))\n",
    "    return squares\n",
    "\n",
    "# Function to check if a point is inside any square\n",
    "def is_point_in_squares(point, squares):\n",
    "    px, py = point\n",
    "    for (x, y, size) in squares:\n",
    "        if x <= px <= x + size and y <= py <= y + size:\n",
    "            return True\n",
    "    return False\n",
    "\n",
    "# Define parameters\n",
    "num_squares = 30  # Number of squares to generate\n",
    "size_range = (10, 11)  # Range of square sizes\n",
    "canvas_size = 100  # Size of the canvas\n",
    "\n",
    "# Generate squares\n",
    "squares = generate_squares(num_squares, size_range, canvas_size)\n",
    "\n",
    "# Generate a random start point that does not overlap with any square\n",
    "while True:\n",
    "    start_point = (np.random.uniform(0, canvas_size), np.random.uniform(0, canvas_size))\n",
    "    if not is_point_in_squares(start_point, squares):\n",
    "        break\n",
    "\n",
    "# Generate a random end point that does not overlap with any square\n",
    "while True:\n",
    "    end_point = (np.random.uniform(0, canvas_size), np.random.uniform(0, canvas_size))\n",
    "    if not is_point_in_squares(end_point, squares):\n",
    "        break\n",
    "\n",
    "# Plot squares and points\n",
    "fig, ax = plt.subplots()\n",
    "for (x, y, size) in squares:\n",
    "    square = plt.Rectangle((x, y), size, size, edgecolor='black', facecolor='blue', alpha=0.5)\n",
    "    ax.add_patch(square)\n",
    "\n",
    "# Plot start and end points\n",
    "ax.plot(start_point[0], start_point[1], 'go', markersize=10)  # Green start point\n",
    "ax.plot(end_point[0], end_point[1], 'ro', markersize=10)  # Red end point\n",
    "\n",
    "# Set plot parameters\n",
    "ax.set_xlim(0, canvas_size)\n",
    "ax.set_ylim(0, canvas_size)\n",
    "ax.set_aspect('equal', adjustable='box')\n",
    "plt.show()\n"
   ]
  },
  {
   "cell_type": "code",
   "execution_count": null,
   "metadata": {},
   "outputs": [],
   "source": []
  }
 ],
 "metadata": {
  "kernelspec": {
   "display_name": "Python 3",
   "language": "python",
   "name": "python3"
  },
  "language_info": {
   "codemirror_mode": {
    "name": "ipython",
    "version": 3
   },
   "file_extension": ".py",
   "mimetype": "text/x-python",
   "name": "python",
   "nbconvert_exporter": "python",
   "pygments_lexer": "ipython3",
   "version": "3.11.9"
  }
 },
 "nbformat": 4,
 "nbformat_minor": 2
}
